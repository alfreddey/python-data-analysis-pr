{
 "cells": [
  {
   "cell_type": "code",
   "execution_count": null,
   "metadata": {},
   "outputs": [],
   "source": [
    "import polars as pl\n",
    "import numpy as np\n",
    "from sklearn.model_selection import train_test_split\n",
    "from sklearn.ensemble import RandomForestRegressor\n",
    "from sklearn.metrics import mean_squared_error\n",
    "from sklearn.metrics import accuracy_score"
   ]
  },
  {
   "cell_type": "code",
   "execution_count": 163,
   "metadata": {},
   "outputs": [],
   "source": [
    "df = pl.read_json('../dataset/untitled.json', infer_schema_length=None)"
   ]
  },
  {
   "cell_type": "code",
   "execution_count": 164,
   "metadata": {},
   "outputs": [
    {
     "data": {
      "text/plain": [
       "(100000, 85)"
      ]
     },
     "execution_count": 164,
     "metadata": {},
     "output_type": "execute_result"
    }
   ],
   "source": [
    "#display width and height of the dataset\n",
    "df.shape"
   ]
  },
  {
   "cell_type": "code",
   "execution_count": 165,
   "metadata": {},
   "outputs": [],
   "source": [
    "#select features like meterCategory, status, paymentChannel, meterDistrict, meterRegion, amount, accountNumber\n",
    "#for analysis\n",
    "df = df.select(pl.col('meterCategory', 'status', 'paymentChannel', 'meterRegion', 'meterDistrict', 'amount', 'accountNumber', 'createdAt')).filter(pl.col('status') == 'success')"
   ]
  },
  {
   "cell_type": "code",
   "execution_count": 166,
   "metadata": {},
   "outputs": [],
   "source": [
    "df = df.drop_nulls()"
   ]
  },
  {
   "cell_type": "code",
   "execution_count": 167,
   "metadata": {},
   "outputs": [
    {
     "data": {
      "text/html": [
       "<div><style>\n",
       ".dataframe > thead > tr,\n",
       ".dataframe > tbody > tr {\n",
       "  text-align: right;\n",
       "  white-space: pre-wrap;\n",
       "}\n",
       "</style>\n",
       "<small>shape: (1, 8)</small><table border=\"1\" class=\"dataframe\"><thead><tr><th>meterCategory</th><th>status</th><th>paymentChannel</th><th>meterRegion</th><th>meterDistrict</th><th>amount</th><th>accountNumber</th><th>createdAt</th></tr><tr><td>u32</td><td>u32</td><td>u32</td><td>u32</td><td>u32</td><td>u32</td><td>u32</td><td>u32</td></tr></thead><tbody><tr><td>0</td><td>0</td><td>0</td><td>0</td><td>0</td><td>0</td><td>0</td><td>0</td></tr></tbody></table></div>"
      ],
      "text/plain": [
       "shape: (1, 8)\n",
       "┌─────────────┬────────┬─────────────┬─────────────┬─────────────┬────────┬────────────┬───────────┐\n",
       "│ meterCatego ┆ status ┆ paymentChan ┆ meterRegion ┆ meterDistri ┆ amount ┆ accountNum ┆ createdAt │\n",
       "│ ry          ┆ ---    ┆ nel         ┆ ---         ┆ ct          ┆ ---    ┆ ber        ┆ ---       │\n",
       "│ ---         ┆ u32    ┆ ---         ┆ u32         ┆ ---         ┆ u32    ┆ ---        ┆ u32       │\n",
       "│ u32         ┆        ┆ u32         ┆             ┆ u32         ┆        ┆ u32        ┆           │\n",
       "╞═════════════╪════════╪═════════════╪═════════════╪═════════════╪════════╪════════════╪═══════════╡\n",
       "│ 0           ┆ 0      ┆ 0           ┆ 0           ┆ 0           ┆ 0      ┆ 0          ┆ 0         │\n",
       "└─────────────┴────────┴─────────────┴─────────────┴─────────────┴────────┴────────────┴───────────┘"
      ]
     },
     "execution_count": 167,
     "metadata": {},
     "output_type": "execute_result"
    }
   ],
   "source": [
    "#display number of empty cells in the dataset\n",
    "df.null_count()"
   ]
  },
  {
   "cell_type": "code",
   "execution_count": 168,
   "metadata": {},
   "outputs": [],
   "source": [
    "#drop rows with no data values\n",
    "df = df.filter(~pl.all_horizontal(pl.all().is_null()))"
   ]
  },
  {
   "cell_type": "code",
   "execution_count": 169,
   "metadata": {},
   "outputs": [],
   "source": [
    "#convert createdAt str to datetime\n",
    "df = df.with_columns(pl.col(\"createdAt\")\n",
    "    .str.slice(0, 26)  # Keep up to microseconds: \"DD-MM-YYYY HH:MM:SS.ssssss\"\n",
    "    .str.strptime(pl.Datetime, \"%d-%m-%Y %H:%M:%S%.f\"),  # Parse as datetime\n",
    ")\n"
   ]
  },
  {
   "cell_type": "code",
   "execution_count": 170,
   "metadata": {},
   "outputs": [
    {
     "data": {
      "text/html": [
       "<div><style>\n",
       ".dataframe > thead > tr,\n",
       ".dataframe > tbody > tr {\n",
       "  text-align: right;\n",
       "  white-space: pre-wrap;\n",
       "}\n",
       "</style>\n",
       "<small>shape: (1, 1)</small><table border=\"1\" class=\"dataframe\"><thead><tr><th>amount</th></tr><tr><td>f64</td></tr></thead><tbody><tr><td>0.1</td></tr></tbody></table></div>"
      ],
      "text/plain": [
       "shape: (1, 1)\n",
       "┌────────┐\n",
       "│ amount │\n",
       "│ ---    │\n",
       "│ f64    │\n",
       "╞════════╡\n",
       "│ 0.1    │\n",
       "└────────┘"
      ]
     },
     "execution_count": 170,
     "metadata": {},
     "output_type": "execute_result"
    }
   ],
   "source": [
    "#display least amount of transaction \n",
    "df.select(pl.col('amount')).min()"
   ]
  },
  {
   "cell_type": "code",
   "execution_count": 171,
   "metadata": {},
   "outputs": [
    {
     "data": {
      "text/html": [
       "<div><style>\n",
       ".dataframe > thead > tr,\n",
       ".dataframe > tbody > tr {\n",
       "  text-align: right;\n",
       "  white-space: pre-wrap;\n",
       "}\n",
       "</style>\n",
       "<small>shape: (1, 1)</small><table border=\"1\" class=\"dataframe\"><thead><tr><th>amount</th></tr><tr><td>f64</td></tr></thead><tbody><tr><td>1.0510e7</td></tr></tbody></table></div>"
      ],
      "text/plain": [
       "shape: (1, 1)\n",
       "┌──────────┐\n",
       "│ amount   │\n",
       "│ ---      │\n",
       "│ f64      │\n",
       "╞══════════╡\n",
       "│ 1.0510e7 │\n",
       "└──────────┘"
      ]
     },
     "execution_count": 171,
     "metadata": {},
     "output_type": "execute_result"
    }
   ],
   "source": [
    "#display total revenue for the dataset\n",
    "df.select(pl.col('amount').sum())"
   ]
  },
  {
   "cell_type": "code",
   "execution_count": 172,
   "metadata": {},
   "outputs": [],
   "source": [
    "#create a new field for hour from createdAt\n",
    "df = df.with_columns(pl.col('createdAt').dt.hour().alias('h'))\n",
    "\n",
    "#get the total amount for each hour\n",
    "df = df.group_by('h').agg(\n",
    "    pl.col(\"amount\").sum().alias(\"y\")  # Sum amounts for each hour\n",
    ").sort(['h', 'y'])"
   ]
  },
  {
   "cell_type": "code",
   "execution_count": null,
   "metadata": {},
   "outputs": [
    {
     "data": {
      "text/html": [
       "<div><style>\n",
       ".dataframe > thead > tr,\n",
       ".dataframe > tbody > tr {\n",
       "  text-align: right;\n",
       "  white-space: pre-wrap;\n",
       "}\n",
       "</style>\n",
       "<small>shape: (22, 5)</small><table border=\"1\" class=\"dataframe\"><thead><tr><th>h</th><th>y</th><th>lag1</th><th>lag2</th><th>lag3</th></tr><tr><td>i8</td><td>f64</td><td>f64</td><td>f64</td><td>f64</td></tr></thead><tbody><tr><td>0</td><td>103082.32</td><td>null</td><td>null</td><td>null</td></tr><tr><td>1</td><td>121367.0</td><td>103082.32</td><td>103082.32</td><td>103082.32</td></tr><tr><td>2</td><td>83712.910004</td><td>121367.0</td><td>121367.0</td><td>121367.0</td></tr><tr><td>3</td><td>58158.649997</td><td>83712.910004</td><td>83712.910004</td><td>83712.910004</td></tr><tr><td>4</td><td>57942.110054</td><td>58158.649997</td><td>58158.649997</td><td>58158.649997</td></tr><tr><td>&hellip;</td><td>&hellip;</td><td>&hellip;</td><td>&hellip;</td><td>&hellip;</td></tr><tr><td>17</td><td>192255.500009</td><td>184529.5</td><td>184529.5</td><td>184529.5</td></tr><tr><td>18</td><td>231874.600006</td><td>192255.500009</td><td>192255.500009</td><td>192255.500009</td></tr><tr><td>19</td><td>193449.309998</td><td>231874.600006</td><td>231874.600006</td><td>231874.600006</td></tr><tr><td>20</td><td>167228.1</td><td>193449.309998</td><td>193449.309998</td><td>193449.309998</td></tr><tr><td>21</td><td>99728.619999</td><td>167228.1</td><td>167228.1</td><td>167228.1</td></tr></tbody></table></div>"
      ],
      "text/plain": [
       "shape: (22, 5)\n",
       "┌─────┬───────────────┬───────────────┬───────────────┬───────────────┐\n",
       "│ h   ┆ y             ┆ lag1          ┆ lag2          ┆ lag3          │\n",
       "│ --- ┆ ---           ┆ ---           ┆ ---           ┆ ---           │\n",
       "│ i8  ┆ f64           ┆ f64           ┆ f64           ┆ f64           │\n",
       "╞═════╪═══════════════╪═══════════════╪═══════════════╪═══════════════╡\n",
       "│ 0   ┆ 103082.32     ┆ null          ┆ null          ┆ null          │\n",
       "│ 1   ┆ 121367.0      ┆ 103082.32     ┆ 103082.32     ┆ 103082.32     │\n",
       "│ 2   ┆ 83712.910004  ┆ 121367.0      ┆ 121367.0      ┆ 121367.0      │\n",
       "│ 3   ┆ 58158.649997  ┆ 83712.910004  ┆ 83712.910004  ┆ 83712.910004  │\n",
       "│ 4   ┆ 57942.110054  ┆ 58158.649997  ┆ 58158.649997  ┆ 58158.649997  │\n",
       "│ …   ┆ …             ┆ …             ┆ …             ┆ …             │\n",
       "│ 17  ┆ 192255.500009 ┆ 184529.5      ┆ 184529.5      ┆ 184529.5      │\n",
       "│ 18  ┆ 231874.600006 ┆ 192255.500009 ┆ 192255.500009 ┆ 192255.500009 │\n",
       "│ 19  ┆ 193449.309998 ┆ 231874.600006 ┆ 231874.600006 ┆ 231874.600006 │\n",
       "│ 20  ┆ 167228.1      ┆ 193449.309998 ┆ 193449.309998 ┆ 193449.309998 │\n",
       "│ 21  ┆ 99728.619999  ┆ 167228.1      ┆ 167228.1      ┆ 167228.1      │\n",
       "└─────┴───────────────┴───────────────┴───────────────┴───────────────┘"
      ]
     },
     "execution_count": 179,
     "metadata": {},
     "output_type": "execute_result"
    }
   ],
   "source": [
    "df = df.with_columns(pl.col('y').shift(1).alias('lag1'), \n",
    "                     pl.col('y').shift(1).alias('lag2'),\n",
    "                     pl.col('y').shift(1).alias('lag3'))\n",
    "df"
   ]
  },
  {
   "cell_type": "code",
   "execution_count": 185,
   "metadata": {},
   "outputs": [],
   "source": [
    "X = df.select(['lag1', 'lag2', 'lag3']).to_numpy()\n",
    "Y = df.select('y').to_numpy()\n",
    "\n",
    "X_train, X_test, Y_train, Y_test = train_test_split(X, Y, test_size=0.5, shuffle=False)"
   ]
  },
  {
   "cell_type": "code",
   "execution_count": null,
   "metadata": {},
   "outputs": [],
   "source": [
    "#train model\n",
    "model1 = RandomForestRegressor(42)\n",
    "model1.fit(X_train, Y_train)"
   ]
  },
  {
   "cell_type": "code",
   "execution_count": 190,
   "metadata": {},
   "outputs": [
    {
     "data": {
      "text/plain": [
       "array([1181344.4446448 , 1181344.4446448 , 1014855.0890596 ,\n",
       "        179704.27362924,  288763.07025375,  288763.07025375,\n",
       "        288763.07025375,  288763.07025375,  179704.27362924,\n",
       "        288763.07025375,  279687.60454356])"
      ]
     },
     "execution_count": 190,
     "metadata": {},
     "output_type": "execute_result"
    }
   ],
   "source": [
    "#prediction\n",
    "Y_prediction = model1.predict(X_test)\n",
    "Y_prediction"
   ]
  },
  {
   "cell_type": "code",
   "execution_count": null,
   "metadata": {},
   "outputs": [],
   "source": []
  }
 ],
 "metadata": {
  "kernelspec": {
   "display_name": "venv",
   "language": "python",
   "name": "python3"
  },
  "language_info": {
   "codemirror_mode": {
    "name": "ipython",
    "version": 3
   },
   "file_extension": ".py",
   "mimetype": "text/x-python",
   "name": "python",
   "nbconvert_exporter": "python",
   "pygments_lexer": "ipython3",
   "version": "3.11.8"
  }
 },
 "nbformat": 4,
 "nbformat_minor": 2
}
