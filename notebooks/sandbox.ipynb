{
 "cells": [
  {
   "cell_type": "code",
   "execution_count": 36,
   "metadata": {},
   "outputs": [],
   "source": [
    "import polars as pl"
   ]
  },
  {
   "cell_type": "code",
   "execution_count": 37,
   "metadata": {},
   "outputs": [],
   "source": [
    "df = pl.read_json('../dataset/untitled.json', infer_schema_length=None)"
   ]
  },
  {
   "cell_type": "code",
   "execution_count": 38,
   "metadata": {},
   "outputs": [
    {
     "data": {
      "text/plain": [
       "['ecgKey',\n",
       " 'meterCategory',\n",
       " 'rechargeMode',\n",
       " 'balanceReference',\n",
       " 'correlationId',\n",
       " 'meterBalanceBefore',\n",
       " 'rechargeSource',\n",
       " 'clientRequestDescription',\n",
       " 'vendorAccountName',\n",
       " 'isVendorSale',\n",
       " 'description',\n",
       " 'indraExternalTransactionId',\n",
       " 'status',\n",
       " 'valueAmount',\n",
       " 'refundedOn',\n",
       " 'amountPaid',\n",
       " 'paymentChannel',\n",
       " 'asyncRequestId',\n",
       " 'bankInvoiceExpiry',\n",
       " 'phoneNumber',\n",
       " 'paymentAccountName',\n",
       " 'createdAt',\n",
       " 'cardScheme',\n",
       " 'isPaymentCompleted',\n",
       " 'rechargeCompletedAt',\n",
       " 'paymentAccountNumber',\n",
       " 'postedToHubtel',\n",
       " 'paymentReferenceId',\n",
       " 'isBatchRecharge',\n",
       " 'address',\n",
       " 'rechargeInitiatedAt',\n",
       " 'batchRechargeId',\n",
       " 'amount',\n",
       " 'rechargeToken',\n",
       " 'tenderedAmount',\n",
       " 'isChallenged',\n",
       " 'bmsId',\n",
       " 'isRechargeFulfilled',\n",
       " 'paymentProvider',\n",
       " 'meterDistrict',\n",
       " 'oltpvFineractClientId',\n",
       " 'paymentChannelId',\n",
       " 'accountNumber',\n",
       " 'id',\n",
       " 'isOltpvSale',\n",
       " 'createdByName',\n",
       " 'paymentCompletedAt',\n",
       " 'rechargeChannel',\n",
       " 'paymentProcessorId',\n",
       " 'postedToHubtelDate',\n",
       " 'responseCode',\n",
       " 'retryCount',\n",
       " 'createdBy',\n",
       " 'spn',\n",
       " 'meterType',\n",
       " 'offlinePrepaidInquiryState',\n",
       " 'oltpvFineractSavingsAccountId',\n",
       " 'previousStatus',\n",
       " 'meterId',\n",
       " 'statusDescription',\n",
       " 'vendorAccountId',\n",
       " 'meterBalanceAfter',\n",
       " 'refundRequestedBy',\n",
       " 'updatedAt',\n",
       " 'customerName',\n",
       " 'postedToIndra',\n",
       " 'ecgTransactionId',\n",
       " 'cardHas3ds',\n",
       " 'districtId',\n",
       " 'meterRegion',\n",
       " 'paymentWalletId',\n",
       " 'createdByStaffId',\n",
       " 'cardReferenceId',\n",
       " 'meterNumber',\n",
       " 'invoiceId',\n",
       " 'meterName',\n",
       " 'oltpvCallbackUrl',\n",
       " 'oltpvPaymentReference',\n",
       " 'transactionType',\n",
       " 'regionId',\n",
       " 'beaconExternalTransactionId',\n",
       " 'postedToBeacon',\n",
       " 'ghanaCardId',\n",
       " 'meterAlias',\n",
       " 'orderIdFromHubtel']"
      ]
     },
     "execution_count": 38,
     "metadata": {},
     "output_type": "execute_result"
    }
   ],
   "source": [
    "df.columns"
   ]
  },
  {
   "cell_type": "code",
   "execution_count": 39,
   "metadata": {},
   "outputs": [
    {
     "data": {
      "text/plain": [
       "(100000, 85)"
      ]
     },
     "execution_count": 39,
     "metadata": {},
     "output_type": "execute_result"
    }
   ],
   "source": [
    "df.shape"
   ]
  },
  {
   "cell_type": "code",
   "execution_count": 40,
   "metadata": {},
   "outputs": [
    {
     "data": {
      "text/plain": [
       "<bound method Series.unique of shape: (100,)\n",
       "Series: 'amountPaid' [f64]\n",
       "[\n",
       "\tnull\n",
       "\tnull\n",
       "\tnull\n",
       "\tnull\n",
       "\tnull\n",
       "\t…\n",
       "\tnull\n",
       "\tnull\n",
       "\tnull\n",
       "\t0.0\n",
       "\tnull\n",
       "]>"
      ]
     },
     "execution_count": 40,
     "metadata": {},
     "output_type": "execute_result"
    }
   ],
   "source": [
    "df['amountPaid'].sample(100).unique"
   ]
  },
  {
   "cell_type": "code",
   "execution_count": 45,
   "metadata": {},
   "outputs": [],
   "source": [
    "# df = df.select(\n",
    "#     [\n",
    "#         'accountNumber', 'amount', 'amountAfter', 'amountRefunded', \n",
    "#         'createdAt', 'month', 'meterCategory', 'meterDistrict', \n",
    "#         'meterRegion', 'paymentChannel', 'paymentProvider', \n",
    "#         'rechargeSource', 'status'\n",
    "#     ]\n",
    "# )\n",
    "\n",
    "\n",
    "#meterCategory, status, paymentChannel, meterDistrict, meterRegion, amount, accountNumber\n",
    "df = df.select(pl.col('meterCategory', 'status', 'paymentChannel', 'meterRegion', 'meterDistrict', 'amount', 'accountNumber', 'createdAt')).filter(pl.col('status') == 'success')"
   ]
  },
  {
   "cell_type": "code",
   "execution_count": 46,
   "metadata": {},
   "outputs": [
    {
     "data": {
      "text/html": [
       "<div><style>\n",
       ".dataframe > thead > tr,\n",
       ".dataframe > tbody > tr {\n",
       "  text-align: right;\n",
       "  white-space: pre-wrap;\n",
       "}\n",
       "</style>\n",
       "<small>shape: (1, 8)</small><table border=\"1\" class=\"dataframe\"><thead><tr><th>meterCategory</th><th>status</th><th>paymentChannel</th><th>meterRegion</th><th>meterDistrict</th><th>amount</th><th>accountNumber</th><th>createdAt</th></tr><tr><td>u32</td><td>u32</td><td>u32</td><td>u32</td><td>u32</td><td>u32</td><td>u32</td><td>u32</td></tr></thead><tbody><tr><td>0</td><td>0</td><td>0</td><td>3003</td><td>6676</td><td>0</td><td>0</td><td>0</td></tr></tbody></table></div>"
      ],
      "text/plain": [
       "shape: (1, 8)\n",
       "┌─────────────┬────────┬─────────────┬─────────────┬─────────────┬────────┬────────────┬───────────┐\n",
       "│ meterCatego ┆ status ┆ paymentChan ┆ meterRegion ┆ meterDistri ┆ amount ┆ accountNum ┆ createdAt │\n",
       "│ ry          ┆ ---    ┆ nel         ┆ ---         ┆ ct          ┆ ---    ┆ ber        ┆ ---       │\n",
       "│ ---         ┆ u32    ┆ ---         ┆ u32         ┆ ---         ┆ u32    ┆ ---        ┆ u32       │\n",
       "│ u32         ┆        ┆ u32         ┆             ┆ u32         ┆        ┆ u32        ┆           │\n",
       "╞═════════════╪════════╪═════════════╪═════════════╪═════════════╪════════╪════════════╪═══════════╡\n",
       "│ 0           ┆ 0      ┆ 0           ┆ 3003        ┆ 6676        ┆ 0      ┆ 0          ┆ 0         │\n",
       "└─────────────┴────────┴─────────────┴─────────────┴─────────────┴────────┴────────────┴───────────┘"
      ]
     },
     "execution_count": 46,
     "metadata": {},
     "output_type": "execute_result"
    }
   ],
   "source": [
    "#empty cells in the dataset\n",
    "df.null_count()"
   ]
  },
  {
   "cell_type": "code",
   "execution_count": 65,
   "metadata": {},
   "outputs": [],
   "source": [
    "df = df.filter(~pl.all_horizontal(pl.all().is_null()))"
   ]
  },
  {
   "cell_type": "code",
   "execution_count": 57,
   "metadata": {},
   "outputs": [
    {
     "data": {
      "text/html": [
       "<div><style>\n",
       ".dataframe > thead > tr,\n",
       ".dataframe > tbody > tr {\n",
       "  text-align: right;\n",
       "  white-space: pre-wrap;\n",
       "}\n",
       "</style>\n",
       "<small>shape: (67_393, 8)</small><table border=\"1\" class=\"dataframe\"><thead><tr><th>meterCategory</th><th>status</th><th>paymentChannel</th><th>meterRegion</th><th>meterDistrict</th><th>amount</th><th>accountNumber</th><th>createdAt</th></tr><tr><td>str</td><td>str</td><td>str</td><td>str</td><td>str</td><td>f64</td><td>str</td><td>datetime[μs]</td></tr></thead><tbody><tr><td>&quot;POSTPAID&quot;</td><td>&quot;success&quot;</td><td>&quot;mobilemoney&quot;</td><td>&quot;CENTRAL&quot;</td><td>&quot;Winneba District&quot;</td><td>81.0</td><td>&quot;755360056&quot;</td><td>2024-01-02 04:29:24.440</td></tr><tr><td>&quot;PREPAID&quot;</td><td>&quot;success&quot;</td><td>&quot;mobilemoney&quot;</td><td>&quot;ACCRA EAST&quot;</td><td>&quot;Dodowa District&quot;</td><td>100.0</td><td>&quot;754226100&quot;</td><td>2024-01-02 04:29:29.710</td></tr><tr><td>&quot;PREPAID&quot;</td><td>&quot;success&quot;</td><td>&quot;mobilemoney&quot;</td><td>&quot;Tema Region&quot;</td><td>&quot;Ashaiman District&quot;</td><td>50.0</td><td>&quot;711533438&quot;</td><td>2024-01-02 04:29:38.367</td></tr><tr><td>&quot;PREPAID&quot;</td><td>&quot;success&quot;</td><td>&quot;mobilemoney&quot;</td><td>&quot;ACCRA EAST&quot;</td><td>&quot;Adenta District&quot;</td><td>500.0</td><td>&quot;713242383&quot;</td><td>2024-01-02 04:29:55.923</td></tr><tr><td>&quot;PREPAID&quot;</td><td>&quot;success&quot;</td><td>&quot;mobilemoney&quot;</td><td>&quot;ACCRA EAST&quot;</td><td>&quot;Roman Ridge District&quot;</td><td>90.0</td><td>&quot;713745205&quot;</td><td>2024-01-02 04:29:56.827</td></tr><tr><td>&hellip;</td><td>&hellip;</td><td>&hellip;</td><td>&hellip;</td><td>&hellip;</td><td>&hellip;</td><td>&hellip;</td><td>&hellip;</td></tr><tr><td>&quot;PREPAID&quot;</td><td>&quot;success&quot;</td><td>&quot;mobilemoney&quot;</td><td>&quot;ACCRA WEST&quot;</td><td>&quot;Ablekuma District&quot;</td><td>20.0</td><td>&quot;745747170&quot;</td><td>2024-01-01 21:34:56.657</td></tr><tr><td>&quot;PREPAID&quot;</td><td>&quot;success&quot;</td><td>&quot;mobilemoney&quot;</td><td>&quot;TEMA&quot;</td><td>&quot;South Tema District&quot;</td><td>20.0</td><td>&quot;712310070&quot;</td><td>2024-01-01 21:34:59.427</td></tr><tr><td>&quot;PREPAID&quot;</td><td>&quot;success&quot;</td><td>&quot;mobilemoney&quot;</td><td>&quot;ACCRA EAST&quot;</td><td>&quot;Mampong District&quot;</td><td>20.0</td><td>&quot;737712591&quot;</td><td>2024-01-01 21:35:01.237</td></tr><tr><td>&quot;PREPAID&quot;</td><td>&quot;success&quot;</td><td>&quot;mobilemoney&quot;</td><td>&quot;ACCRA EAST&quot;</td><td>&quot;Adenta District&quot;</td><td>50.0</td><td>&quot;738161120&quot;</td><td>2024-01-01 21:35:02.147</td></tr><tr><td>&quot;PREPAID&quot;</td><td>&quot;success&quot;</td><td>&quot;mobilemoney&quot;</td><td>&quot;Accra East Region&quot;</td><td>&quot;Legon District&quot;</td><td>100.0</td><td>&quot;750321042&quot;</td><td>2024-01-01 21:35:02.353</td></tr></tbody></table></div>"
      ],
      "text/plain": [
       "shape: (67_393, 8)\n",
       "┌─────────────┬─────────┬─────────────┬────────────┬────────────┬────────┬────────────┬────────────┐\n",
       "│ meterCatego ┆ status  ┆ paymentChan ┆ meterRegio ┆ meterDistr ┆ amount ┆ accountNum ┆ createdAt  │\n",
       "│ ry          ┆ ---     ┆ nel         ┆ n          ┆ ict        ┆ ---    ┆ ber        ┆ ---        │\n",
       "│ ---         ┆ str     ┆ ---         ┆ ---        ┆ ---        ┆ f64    ┆ ---        ┆ datetime[μ │\n",
       "│ str         ┆         ┆ str         ┆ str        ┆ str        ┆        ┆ str        ┆ s]         │\n",
       "╞═════════════╪═════════╪═════════════╪════════════╪════════════╪════════╪════════════╪════════════╡\n",
       "│ POSTPAID    ┆ success ┆ mobilemoney ┆ CENTRAL    ┆ Winneba    ┆ 81.0   ┆ 755360056  ┆ 2024-01-02 │\n",
       "│             ┆         ┆             ┆            ┆ District   ┆        ┆            ┆ 04:29:24.4 │\n",
       "│             ┆         ┆             ┆            ┆            ┆        ┆            ┆ 40         │\n",
       "│ PREPAID     ┆ success ┆ mobilemoney ┆ ACCRA EAST ┆ Dodowa     ┆ 100.0  ┆ 754226100  ┆ 2024-01-02 │\n",
       "│             ┆         ┆             ┆            ┆ District   ┆        ┆            ┆ 04:29:29.7 │\n",
       "│             ┆         ┆             ┆            ┆            ┆        ┆            ┆ 10         │\n",
       "│ PREPAID     ┆ success ┆ mobilemoney ┆ Tema       ┆ Ashaiman   ┆ 50.0   ┆ 711533438  ┆ 2024-01-02 │\n",
       "│             ┆         ┆             ┆ Region     ┆ District   ┆        ┆            ┆ 04:29:38.3 │\n",
       "│             ┆         ┆             ┆            ┆            ┆        ┆            ┆ 67         │\n",
       "│ PREPAID     ┆ success ┆ mobilemoney ┆ ACCRA EAST ┆ Adenta     ┆ 500.0  ┆ 713242383  ┆ 2024-01-02 │\n",
       "│             ┆         ┆             ┆            ┆ District   ┆        ┆            ┆ 04:29:55.9 │\n",
       "│             ┆         ┆             ┆            ┆            ┆        ┆            ┆ 23         │\n",
       "│ PREPAID     ┆ success ┆ mobilemoney ┆ ACCRA EAST ┆ Roman      ┆ 90.0   ┆ 713745205  ┆ 2024-01-02 │\n",
       "│             ┆         ┆             ┆            ┆ Ridge      ┆        ┆            ┆ 04:29:56.8 │\n",
       "│             ┆         ┆             ┆            ┆ District   ┆        ┆            ┆ 27         │\n",
       "│ …           ┆ …       ┆ …           ┆ …          ┆ …          ┆ …      ┆ …          ┆ …          │\n",
       "│ PREPAID     ┆ success ┆ mobilemoney ┆ ACCRA WEST ┆ Ablekuma   ┆ 20.0   ┆ 745747170  ┆ 2024-01-01 │\n",
       "│             ┆         ┆             ┆            ┆ District   ┆        ┆            ┆ 21:34:56.6 │\n",
       "│             ┆         ┆             ┆            ┆            ┆        ┆            ┆ 57         │\n",
       "│ PREPAID     ┆ success ┆ mobilemoney ┆ TEMA       ┆ South Tema ┆ 20.0   ┆ 712310070  ┆ 2024-01-01 │\n",
       "│             ┆         ┆             ┆            ┆ District   ┆        ┆            ┆ 21:34:59.4 │\n",
       "│             ┆         ┆             ┆            ┆            ┆        ┆            ┆ 27         │\n",
       "│ PREPAID     ┆ success ┆ mobilemoney ┆ ACCRA EAST ┆ Mampong    ┆ 20.0   ┆ 737712591  ┆ 2024-01-01 │\n",
       "│             ┆         ┆             ┆            ┆ District   ┆        ┆            ┆ 21:35:01.2 │\n",
       "│             ┆         ┆             ┆            ┆            ┆        ┆            ┆ 37         │\n",
       "│ PREPAID     ┆ success ┆ mobilemoney ┆ ACCRA EAST ┆ Adenta     ┆ 50.0   ┆ 738161120  ┆ 2024-01-01 │\n",
       "│             ┆         ┆             ┆            ┆ District   ┆        ┆            ┆ 21:35:02.1 │\n",
       "│             ┆         ┆             ┆            ┆            ┆        ┆            ┆ 47         │\n",
       "│ PREPAID     ┆ success ┆ mobilemoney ┆ Accra East ┆ Legon      ┆ 100.0  ┆ 750321042  ┆ 2024-01-01 │\n",
       "│             ┆         ┆             ┆ Region     ┆ District   ┆        ┆            ┆ 21:35:02.3 │\n",
       "│             ┆         ┆             ┆            ┆            ┆        ┆            ┆ 53         │\n",
       "└─────────────┴─────────┴─────────────┴────────────┴────────────┴────────┴────────────┴────────────┘"
      ]
     },
     "execution_count": 57,
     "metadata": {},
     "output_type": "execute_result"
    }
   ],
   "source": [
    "df = df.with_columns(pl.col(\"createdAt\")\n",
    "    .str.slice(0, 26)  # Keep up to microseconds: \"YYYY-MM-DDTHH:MM:SS.ssssss\"\n",
    "    .str.strptime(pl.Datetime, \"%d-%m-%Y %H:%M:%S%.f\"),  # Parse as datetime\n",
    ")\n",
    "\n",
    "df"
   ]
  },
  {
   "cell_type": "code",
   "execution_count": 58,
   "metadata": {},
   "outputs": [
    {
     "data": {
      "text/html": [
       "<div><style>\n",
       ".dataframe > thead > tr,\n",
       ".dataframe > tbody > tr {\n",
       "  text-align: right;\n",
       "  white-space: pre-wrap;\n",
       "}\n",
       "</style>\n",
       "<small>shape: (1, 1)</small><table border=\"1\" class=\"dataframe\"><thead><tr><th>amount</th></tr><tr><td>f64</td></tr></thead><tbody><tr><td>0.02</td></tr></tbody></table></div>"
      ],
      "text/plain": [
       "shape: (1, 1)\n",
       "┌────────┐\n",
       "│ amount │\n",
       "│ ---    │\n",
       "│ f64    │\n",
       "╞════════╡\n",
       "│ 0.02   │\n",
       "└────────┘"
      ]
     },
     "execution_count": 58,
     "metadata": {},
     "output_type": "execute_result"
    }
   ],
   "source": [
    "df.select(pl.col('amount')).min()"
   ]
  },
  {
   "cell_type": "code",
   "execution_count": 59,
   "metadata": {},
   "outputs": [],
   "source": [
    "df = df.with_columns(pl.col('createdAt').dt.hour().alias('hour'))"
   ]
  },
  {
   "cell_type": "code",
   "execution_count": 60,
   "metadata": {},
   "outputs": [
    {
     "data": {
      "text/html": [
       "<div><style>\n",
       ".dataframe > thead > tr,\n",
       ".dataframe > tbody > tr {\n",
       "  text-align: right;\n",
       "  white-space: pre-wrap;\n",
       "}\n",
       "</style>\n",
       "<small>shape: (1, 1)</small><table border=\"1\" class=\"dataframe\"><thead><tr><th>amount</th></tr><tr><td>f64</td></tr></thead><tbody><tr><td>1.2770e7</td></tr></tbody></table></div>"
      ],
      "text/plain": [
       "shape: (1, 1)\n",
       "┌──────────┐\n",
       "│ amount   │\n",
       "│ ---      │\n",
       "│ f64      │\n",
       "╞══════════╡\n",
       "│ 1.2770e7 │\n",
       "└──────────┘"
      ]
     },
     "execution_count": 60,
     "metadata": {},
     "output_type": "execute_result"
    }
   ],
   "source": [
    "df.select(pl.col('amount').sum())"
   ]
  },
  {
   "cell_type": "code",
   "execution_count": 64,
   "metadata": {},
   "outputs": [],
   "source": [
    "df = df.group_by('hour').agg(pl.col(\"amount\").sum().alias(\"total_amount\"))\n",
    "\n",
    "df.write_csv('untitled1.csv')"
   ]
  }
 ],
 "metadata": {
  "kernelspec": {
   "display_name": "venv",
   "language": "python",
   "name": "python3"
  },
  "language_info": {
   "codemirror_mode": {
    "name": "ipython",
    "version": 3
   },
   "file_extension": ".py",
   "mimetype": "text/x-python",
   "name": "python",
   "nbconvert_exporter": "python",
   "pygments_lexer": "ipython3",
   "version": "3.11.8"
  }
 },
 "nbformat": 4,
 "nbformat_minor": 2
}
